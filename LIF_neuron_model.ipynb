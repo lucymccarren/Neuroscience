{
 "cells": [
  {
   "cell_type": "markdown",
   "metadata": {
    "colab_type": "text",
    "id": "GWwMJ-Wpdz_q"
   },
   "source": [
    "# The Leaky Integrate-and-Fire (LIF) neuron model"
   ]
  },
  {
   "cell_type": "markdown",
   "metadata": {
    "colab_type": "text",
    "id": "5lOeT1R1d8OE"
   },
   "source": [
    "# <font color='green'> Objectives </font>\n",
    "\n",
    "In this notebook, we will build up a leaky integrate-and-fire (LIF) neuron model and study its dynamics in response to various types of inputs. In particular, we are going to write a few lines of code to  \n",
    "\n",
    "1) simulate the LIF neuron model\n",
    "\n",
    "2) drive the LIF neuron with external inputs, such as DC current, Gaussian white noise, and Poisson spike trains, etc.\n",
    "\n",
    "3) study how different inputs affect the  LIF neuron's output (firing rate and spike time irregularity)\n",
    "\n",
    "Here will be specially emphasize on identifying conditions (input statistics) under which a neuron can spike at low firing rates and in a irregular manner. The reason for focusing on this is that in most cases neocortical neurons spike in an irregular manner (but not quite Poissonian)."
   ]
  },
  {
   "cell_type": "markdown",
   "metadata": {
    "colab_type": "text",
    "id": "aeLO8mtpeGQw"
   },
   "source": [
    "Please execute the cell below to initialize the notebook environment."
   ]
  },
  {
   "cell_type": "code",
   "execution_count": 1,
   "metadata": {
    "colab": {},
    "colab_type": "code",
    "id": "bQ1Ue4PZd6ur"
   },
   "outputs": [],
   "source": [
    "import matplotlib.pyplot as plt    # import matplotlib\n",
    "import numpy as np                 # import numpy\n",
    "import time                        # import time\n",
    "import ipywidgets as widgets       # interactive display\n",
    "from scipy.stats import pearsonr   # import pearson correlation\n",
    "\n",
    "fig_w, fig_h = 8, 6\n",
    "my_fontsize = 18\n",
    "my_params = {'axes.labelsize': my_fontsize,\n",
    "          'axes.titlesize': my_fontsize,\n",
    "          'figure.figsize': (fig_w, fig_h),\n",
    "          'font.size': my_fontsize,\n",
    "          'legend.fontsize': my_fontsize-4,\n",
    "          'lines.markersize': 8.,\n",
    "          'lines.linewidth': 2.,\n",
    "          'xtick.labelsize': my_fontsize-2,\n",
    "          'ytick.labelsize': my_fontsize-2}\n",
    "\n",
    "plt.rcParams.update(my_params)\n",
    "my_layout = widgets.Layout()\n"
   ]
  },
  {
   "cell_type": "code",
   "execution_count": 2,
   "metadata": {},
   "outputs": [],
   "source": [
    "#@title Helper functions\n",
    "def plot_volt_trace(pars, v, sp):\n",
    "    '''\n",
    "    Plot trajetory of membrane potential for a single neuron\n",
    "  \n",
    "    Expects:\n",
    "    pars   : parameter dictionary\n",
    "    v      : volt trajetory\n",
    "    sp     : spike train\n",
    "  \n",
    "    Returns:\n",
    "    figure of the membrane potential trajetory for a single neuron\n",
    "    '''\n",
    "\n",
    "    V_th = pars['V_th']\n",
    "    dt, range_t = pars['dt'], pars['range_t']\n",
    "    if sp.size:\n",
    "       sp_num = (sp/dt).astype(int)-1\n",
    "       v[sp_num] += 10\n",
    "\n",
    "    plt.plot(pars['range_t'], v, 'b')\n",
    "    plt.axhline(V_th, 0, 1, color='k', ls='--')\n",
    "    plt.xlabel('Time (ms)')\n",
    "    plt.ylabel('V (mV)')\n"
   ]
  },
  {
   "cell_type": "markdown",
   "metadata": {
    "colab_type": "text",
    "id": "BoL7Mub0eMzT"
   },
   "source": [
    "# <font color='green'> Leaky integrate-and-fire (LIF) neuron model</font>\n",
    "\n",
    "One of the simplest mathematical model of a neuron is the Leaky integrate-and-fire (LIF) model. The basic idea of LIF neuron was proposed in 1907 by Louis Édouard Lapicque, long before we understood the electrophysiology of a neuron [see a translation of Lapicque's paper [link text](https://pubmed.ncbi.nlm.nih.gov/17968583/)].\n",
    "\n",
    "The subthreshold membrane potential dynamics of a LIF neuron is described by\n",
    "\n",
    "\\begin{eqnarray}\n",
    "C_m\\frac{dV}{dt} = -g_L(V-V_L) + I,\n",
    "\\end{eqnarray}\n",
    "\n",
    "where $C_m$ is the membrane capacitance, $V$ is the membrane potential, $g_L$ is the leak conductance, $V_L$ is the resting potential, and $I$ is the external input current. \n",
    "\n",
    "Dividing both sides of the above equation by $g_L$ gives\n",
    "\n",
    "\\begin{align}\n",
    "\\tau_m\\frac{dV}{dt} = -(V-V_L) + \\frac{I}{g_L}\\,,\\quad (1)\n",
    "\\end{align}\n",
    "\n",
    "where the time constant $\\tau_m$ is defined as $\\tau_m=C/g_L$. Below we will use Eqn.(1) to simulate the LIF neuron dynamics. \n",
    "\n",
    "If $I$ is sufficiently strong such that $V$ reaches a certain threshold value $V_{\\rm th}$, $V$ is reset to a reset potential $V_{\\rm reset}<V_{\\rm th}$ and voltage is clamped to $V_{reset}$ for $t_{ref}$ms mimicking the refractoriness of the neuron during an action potential, _i.e._,\n",
    "\n",
    "\\begin{eqnarray}\n",
    "\\mathrm{if}\\quad V(t)\\geq V_{\\rm th}&:& V(t^+)=V_{\\rm reset}\n",
    "\\end{eqnarray}\n",
    "\n",
    "Thus, the LIF model captures the facts that a neuron\n",
    "- performes spatial and temporal integration of synaptic inputs \n",
    "- generates a spike when the voltage reaches a certain threshold\n",
    "- goes refractory during the action potential\n",
    "- membrane is leaky\n",
    "\n",
    "The LIF model assumes that spatial and temporal integration of inputs is linear. Also, membrane potential dynamics close to the spike threshold is much slower in LIF neurons than in real neurons. \n"
   ]
  },
  {
   "cell_type": "markdown",
   "metadata": {
    "colab_type": "text",
    "id": "h5z7DDXveOVk"
   },
   "source": [
    "# <font color='green'> Numerical discretization with forward Euler scheme </font>\n",
    "\n",
    "To numerically solve the membrane potential dynamics of the LIF neuron, we need to discretize the continuous dynamics of Eqn. (1) by using a time-grid of stepsize $\\Delta t$. Note that, to ensure an accurate approximation to the solution of Eqn. (1), the time step $\\Delta t$ needs to be small compared to all other time constants in the system (here is $\\tau_m$). The smaller value $\\Delta t$ takes, the better the approximation is. However, the total simulation time will become longer.\n",
    "\n",
    "On the time-grid of of stepsize $\\Delta t$, the dynamics of Eqn. (1) is discretized to be \n",
    "\n",
    "\\begin{eqnarray}\n",
    "\\tau_m \\frac{\\Delta V_n}{\\Delta t} &=& -(V_n-V_L) +\\frac{I_n}{g_L},\n",
    "\\end{eqnarray}\n",
    "\n",
    "where $V_n = V(n\\Delta t)$, and $I_n=I(n\\Delta t)$. \n",
    "\n",
    "Then the updating process of $V_{n+1}$ at time $t_{n+1}=(n+1)\\Delta t$ based on $V_{n}$ can be formed as \n",
    "\n",
    "\\begin{eqnarray}\n",
    "V_{n+1} &=& V_n+ \\Delta V_n \\\\\n",
    "\\Delta V_n &=&  \\left(-(V_n-V_L) +\\frac{I}{g_L}\\right)\\frac{\\Delta t}{\\tau_m} \\qquad (2)\n",
    "\\end{eqnarray}"
   ]
  },
  {
   "cell_type": "markdown",
   "metadata": {
    "colab_type": "text",
    "id": "fjIvCaXQeQLu"
   },
   "source": [
    "# <font color='green'> Python code to simulate the LIF neuron </font>\n",
    "\n",
    "We now **write** a Python code to calculate the Eqn.(2) and simulate the LIF neuron dynamics.\n",
    "\n",
    "The cell below initializes a dictionary that stores parameters of the LIF neuron model and the simulation scheme. "
   ]
  },
  {
   "cell_type": "code",
   "execution_count": 3,
   "metadata": {
    "colab": {},
    "colab_type": "code",
    "id": "0FILOnWKdvZg"
   },
   "outputs": [],
   "source": [
    "#@title Default value function: `default_pars( **kwargs)` \n",
    "def default_pars( **kwargs):\n",
    "    pars = {}\n",
    "    \n",
    "    ### typical neuron parameters###\n",
    "    pars['V_th']    = -55. # spike threshold [mV]\n",
    "    pars['V_reset'] = -75. #reset potential [mV]\n",
    "    pars['tau_m']   = 10. # membrane time constant [ms]\n",
    "    pars['g_L']     = 10. #leak conductance [nS]\n",
    "    pars['V_init']  = -65. # initial potential [mV]\n",
    "    pars['E_L']     = -75. #leak reversal potential [mV]\n",
    "    pars['tref']    = 2. # refractory time (ms)\n",
    "\n",
    "    ### simulation parameters ###\n",
    "    pars['T'] = 400. # Total duration of simulation [ms]\n",
    "    pars['dt'] = .1  # Simulation time step [ms]\n",
    "    \n",
    "    ### external parameters if any ###\n",
    "    for k in kwargs:\n",
    "        pars[k] = kwargs[k]\n",
    "    \n",
    "    pars['range_t'] = np.arange(0, pars['T'], pars['dt']) # Vector of discretized time points [ms]\n",
    "        \n",
    "    return pars"
   ]
  },
  {
   "cell_type": "markdown",
   "metadata": {
    "colab_type": "text",
    "id": "jhUj07dveXRK"
   },
   "source": [
    "The cell below defines the function to simulate the LIF neuron when receiving external current inputs."
   ]
  },
  {
   "cell_type": "code",
   "execution_count": 4,
   "metadata": {
    "colab": {},
    "colab_type": "code",
    "id": "Hhk7e-QreVSh"
   },
   "outputs": [
    {
     "name": "stdout",
     "output_type": "stream",
     "text": [
      "Help on function run_LIF in module __main__:\n",
      "\n",
      "run_LIF(pars, I)\n",
      "    Simulate the LIF dynamics with external input current \n",
      "    \n",
      "    Expects:\n",
      "    pars       : parameter dictionary\n",
      "    I          : input current [pA]. The injected current here can be a value or an array\n",
      "    \n",
      "    Returns:\n",
      "    rec_v      : mebrane potential\n",
      "    rec_sp     : spike times\n",
      "\n",
      "None\n"
     ]
    }
   ],
   "source": [
    "#@title Function `run_LIF(pars, I)` \n",
    "\n",
    "def run_LIF(pars, I):\n",
    "    '''\n",
    "    Simulate the LIF dynamics with external input current \n",
    "    \n",
    "    Expects:\n",
    "    pars       : parameter dictionary\n",
    "    I          : input current [pA]. The injected current here can be a value or an array\n",
    "    \n",
    "    Returns:\n",
    "    rec_v      : mebrane potential\n",
    "    rec_sp     : spike times\n",
    "    '''\n",
    "    \n",
    "    # Set parameters\n",
    "    V_th, V_reset = pars['V_th'], pars['V_reset']   \n",
    "    tau_m, g_L = pars['tau_m'], pars['g_L']        \n",
    "    V_init, E_L = pars['V_init'], pars['E_L']       \n",
    "    dt, range_t = pars['dt'], pars['range_t'] \n",
    "    Lt = range_t.size \n",
    "    tref = pars['tref']\n",
    "    # Initialize voltage and current \n",
    "    v = np.zeros(Lt)\n",
    "    v[0] = V_init\n",
    "    I = I * np.ones(Lt) \n",
    "    tr = 0. # the count for refractory duration\n",
    "    # simulate the LIF dynamics \n",
    "    rec_spikes = []               # record spike times\n",
    "    for it in range(Lt-1):\n",
    "      if tr >0: # check for refractoriness\n",
    "            v[it] = V_reset\n",
    "            tr = tr-1\n",
    "      elif v[it] >= V_th:         #reset voltage and record spike event\n",
    "            rec_spikes.append(it)\n",
    "            v[it] = V_reset\n",
    "            tr = tref/dt\n",
    "      #calculate the increment of the membrane potential\n",
    "      dv = (-(v[it]-E_L) + I[it]/g_L) * (dt/tau_m)\n",
    "        \n",
    "      #update the membrane potential\n",
    "      v[it+1] = v[it] + dv\n",
    "        \n",
    "    rec_spikes = np.array(rec_spikes) * dt\n",
    "        \n",
    "    return v, rec_spikes\n",
    "\n",
    "print(help(run_LIF))"
   ]
  },
  {
   "cell_type": "markdown",
   "metadata": {
    "colab_type": "text",
    "id": "Ym8nTzhTP2Eh"
   },
   "source": [
    "# <font color='green'> Response of an LIF model to different types of input currents </font>\n",
    "In the following we will inject direct current and white noise to study the response of an LIF neuron."
   ]
  },
  {
   "cell_type": "markdown",
   "metadata": {
    "colab_type": "text",
    "id": "KhKy4OKhecO9"
   },
   "source": [
    "### Constant current \n",
    "Execute the following cell to run the LIF neuron when receiving a DC current of 300 pA, and see the voltage response of the LIF neuron."
   ]
  },
  {
   "cell_type": "code",
   "execution_count": 5,
   "metadata": {
    "colab": {
     "base_uri": "https://localhost:8080/",
     "height": 279
    },
    "colab_type": "code",
    "id": "6wBTrRy4ea19",
    "outputId": "86a6bdf2-9dbd-43f1-b334-1ec9d5b7ba0a"
   },
   "outputs": [
    {
     "data": {
      "image/png": "[encoded data removed]",
      "text/plain": [
       "<Figure size 576x432 with 1 Axes>"
      ]
     },
     "metadata": {
      "needs_background": "light"
     },
     "output_type": "display_data"
    }
   ],
   "source": [
    "pars = default_pars()\n",
    "v, rec_spikes = run_LIF(pars, I = 300.)\n",
    "plt.plot(pars['range_t'], v, 'b')\n",
    "plt.xlim(0, 100)\n",
    "plt.xlabel('Time (ms)')\n",
    "plt.ylabel('V (mV)');"
   ]
  },
  {
   "cell_type": "code",
   "execution_count": 6,
   "metadata": {
    "colab": {
     "base_uri": "https://localhost:8080/",
     "height": 311,
     "referenced_widgets": [
      "6f0aa47e1d9142c9878894e4a8cc9c39",
      "5e3758ad02a44eecbd564634623d4629",
      "42259d05ff2f4918b1d2a033efb886e9",
      "ab0aa65f24794a018d7be9262caec260",
      "5abad92cddcf4cb0b94c07c190bc7e38",
      "dd8f526b9df441b8bf08875c10e4407c",
      "6a604a2d89cf409580497bce458aad46"
     ]
    },
    "colab_type": "code",
    "id": "aFqJZUNGotb5",
    "outputId": "b8fa1ccd-986a-4bb9-de38-dbe93b726a89"
   },
   "outputs": [
    {
     "data": {
      "application/vnd.jupyter.widget-view+json": {
       "model_id": "8e4558a8a00840d0b77a86e049c25fea",
       "version_major": 2,
       "version_minor": 0
      },
      "text/plain": [
       "interactive(children=(FloatSlider(value=200.0, description='I_dc', layout=Layout(width='450px'), max=300.0, mi…"
      ]
     },
     "metadata": {},
     "output_type": "display_data"
    }
   ],
   "source": [
    "#@title LIF neuron Explorer for DC input\n",
    "my_layout.width = '450px'\n",
    "@widgets.interact(\n",
    "    I_dc  = widgets.FloatSlider(200., min=100., max=300., step=5., layout=my_layout),\n",
    "    tau_m = widgets.FloatSlider(10., min=2., max=20., step=2., layout=my_layout)\n",
    ")\n",
    "\n",
    "def diff_DC(I_dc=200., tau_m=10.):\n",
    "  pars = default_pars(T=100.)\n",
    "  pars['tau_m'] = tau_m\n",
    "  v, sp = run_LIF(pars, I = I_dc)\n",
    "  plt.figure()\n",
    "  plot_volt_trace(pars, v, sp)\n",
    "  plt.legend(['Membrane\\npotential', r'Threshold V$_{\\mathrm{th}}$'], loc=[1.05, 0.75])\n",
    "  plt.show()\n",
    "#_ = widgets.interact(diff_DC, I_dc = (100., 300., 5.))"
   ]
  },
  {
   "cell_type": "markdown",
   "metadata": {
    "colab_type": "text",
    "id": "gLoch3guefQG"
   },
   "source": [
    "### Gaussian white noise (GWN) current \n",
    "\n",
    "Neurons in vivo never receive direct current like inputs. Given the noisy nature of neuronal activity in vivo, neurons receive noisy time varying inputs.\n",
    "\n",
    "We next investigate the neuronal response when the LIF neuron receives Gaussian white noise $\\xi(t)$ with mean \n",
    "\n",
    "\\begin{eqnarray}\n",
    "E[\\xi(t)]=\\mu=0,\n",
    "\\end{eqnarray}\n",
    "\n",
    "and autocovariance \n",
    "\\begin{eqnarray}\n",
    "E[\\xi(t)\\xi(t+\\tau)]=\\sigma_\\xi^2 \\delta(\\tau)\n",
    "\\end{eqnarray}\n",
    "\n",
    "Hint: In order to have correct statistics of the GWN approximation on a time grid with increment $\\Delta t$, the noise amplitide $\\sigma_\\xi$ needs to be scaled by $1/\\sqrt{\\Delta t}$. \n",
    "\n",
    "The cell below defines gaussian white noise currents."
   ]
  },
  {
   "cell_type": "code",
   "execution_count": 40,
   "metadata": {
    "colab": {},
    "colab_type": "code",
    "id": "qBWHhnNnehYX"
   },
   "outputs": [],
   "source": [
    "def my_GWN(pars, mu, sig, myseed=False):\n",
    "    '''\n",
    "    Expects:\n",
    "    pars       : parameter dictionary\n",
    "    mu         : noise baseline (mean)\n",
    "    sig        : noise amplitute (standard deviation)\n",
    "    myseed     : random seed. int or boolean\n",
    "                 the same seed will give the same random number sequence\n",
    "    \n",
    "    Returns:\n",
    "    I          : Gaussian white noise input\n",
    "    '''\n",
    "    \n",
    "    # Retrieve simulation parameters\n",
    "    dt, range_t = pars['dt'], pars['range_t']\n",
    "    Lt = range_t.size\n",
    "    \n",
    "    # set random seed  \n",
    "    # you can fix the seed of the random number generator so that the results are reliable \n",
    "    # however, when you want to generate multiple realization make sure that you change \n",
    "    # the seed for each new realization\n",
    "    if myseed:\n",
    "        np.random.seed(seed=myseed) \n",
    "    else:\n",
    "        np.random.seed()\n",
    "        \n",
    "    #generate GWN\n",
    "    # we divide here by 1000 to convert units to sec.\n",
    "    I =  mu + sig * np.random.randn(Lt) / np.sqrt(dt/1000.) \n",
    "    \n",
    "    return I"
   ]
  },
  {
   "cell_type": "markdown",
   "metadata": {
    "colab_type": "text",
    "id": "vcSTEVMoemrf"
   },
   "source": [
    "Execute the cell below to generate the GWN current and plot it out."
   ]
  },
  {
   "cell_type": "code",
   "execution_count": 41,
   "metadata": {},
   "outputs": [
    {
     "data": {
      "image/png": "[encoded data removed]",
      "text/plain": [
       "<Figure size 864x288 with 2 Axes>"
      ]
     },
     "metadata": {
      "needs_background": "light"
     },
     "output_type": "display_data"
    }
   ],
   "source": [
    "pars = default_pars(T=100.)\n",
    "sig_gwn = 5.\n",
    "mu_gwn  = 250.\n",
    "I_GWN = my_GWN(pars, mu = mu_gwn, sig=sig_gwn, myseed=2020)\n",
    "v, sp = run_LIF(pars, I=I_GWN)\n",
    "plt.figure(figsize=(12, 4))\n",
    "plt.subplot(1,2,1)\n",
    "plt.plot(pars['range_t'][::3], I_GWN[::3], 'b')\n",
    "plt.xlabel('Time (ms)')\n",
    "plt.ylabel(r'$I_{GWN}$ (pA)')\n",
    "plt.subplot(1,2,2)\n",
    "plot_volt_trace(pars, v, sp)\n",
    "plt.tight_layout()\n",
    "plt.show()"
   ]
  },
  {
   "cell_type": "code",
   "execution_count": 44,
   "metadata": {
    "colab": {
     "base_uri": "https://localhost:8080/",
     "height": 279
    },
    "colab_type": "code",
    "id": "vOoaaocSelHW",
    "outputId": "9917de75-eae0-45de-d208-9eca9d020e6d"
   },
   "outputs": [
    {
     "data": {
      "application/vnd.jupyter.widget-view+json": {
       "model_id": "da4395b7a1284955a94e0197151c4f41",
       "version_major": 2,
       "version_minor": 0
      },
      "text/plain": [
       "interactive(children=(FloatSlider(value=200.0, description='mu_gwn', layout=Layout(width='450px'), max=300.0, …"
      ]
     },
     "metadata": {},
     "output_type": "display_data"
    }
   ],
   "source": [
    "#@title LIF neuron Explorer for noisy input\n",
    "\n",
    "my_layout.width = '450px'\n",
    "@widgets.interact(\n",
    "    mu_gwn  = widgets.FloatSlider(200., min=100., max=300., step=5., layout=my_layout),\n",
    "    sig_gwn = widgets.FloatSlider(2.5, min=0., max=5., step=.5, layout=my_layout)\n",
    ")\n",
    "\n",
    "\n",
    "def diff_GWN_to_LIF(mu_gwn,sig_gwn):\n",
    "    pars = default_pars(T=100.)\n",
    "    I_GWN = my_GWN(pars, mu = mu_gwn, sig=sig_gwn)\n",
    "    v, sp = run_LIF(pars, I =I_GWN)\n",
    "    plt.figure(figsize=(12, 4))\n",
    "    plt.subplot(1,2,1)\n",
    "    plt.plot(pars['range_t'][::3], I_GWN[::3], 'b')\n",
    "    plt.xlabel('Time (ms)')\n",
    "    plt.ylabel(r'$I_{GWN}$ (pA)')\n",
    "    plt.subplot(1,2,2)\n",
    "    plot_volt_trace(pars, v, sp)\n",
    "    plt.tight_layout()\n",
    "    plt.show()\n",
    "\n",
    "#_ = widgets.interact(diff_GWN_to_LIF, mu_gwn = (-100., 400., 5.),sig_gwn = (0, 5., 0.5))   "
   ]
  },
  {
   "cell_type": "markdown",
   "metadata": {
    "colab_type": "text",
    "id": "oxCp93MLfFyj"
   },
   "source": [
    "Execute the cell below to inject the GWN current to the LIF neuron and see its voltage response."
   ]
  },
  {
   "cell_type": "markdown",
   "metadata": {
    "colab_type": "text",
    "id": "BMdtWouUS5XP"
   },
   "source": [
    "## <font color='blue'> Think </font>\n",
    "- As we increase input (DC value) or GWN parameters the spike count changes. How much can we increase the spike count and what might be relationship between GWN mean/std or DC value and spike count? \n",
    "\n",
    "- We have seen above that when we inject DC the neuron spikes in a regular manner (clock like) and this regularity is reduced when GWN is injected. The question is how much irregular can we make the neurons spiking by changing the parameters of the GWN? \n"
   ]
  },
  {
   "cell_type": "markdown",
   "metadata": {
    "colab_type": "text",
    "id": "FtOGDzgqVruw"
   },
   "source": [
    "#### Firing rate and spike time irregularity\n",
    "When we plot the output firing rate as a function of GWN mean or DC value, it is called the input-output transfer function of the neuron (so simply F-I curve).\n",
    "\n",
    "Spike regularity can be quanitfied as **coefficient of variance of the inter-spike-interval**:\n",
    "\\begin{align}\n",
    "\\text{CV}_{\\text{ISI}} = \\frac{std(\\text{isi})}{mean(\\text{isi})}\n",
    "\\end{align}\n",
    "\n",
    "*isi* can be calculate by using np.diff(spike_time)\n",
    "\n",
    "For completely irregular spiking (i.e. a Poisson Point process) $\\textbf{CV}_{\\textbf{ISI}} \\textbf{= 1}$. And for a clock like process because *std(isi)* is zero $\\textbf{CV}_{\\textbf{ISI}} \\textbf{= 0}$. "
   ]
  },
  {
   "cell_type": "markdown",
   "metadata": {
    "colab_type": "text",
    "id": "MVoP1FikcVbZ"
   },
   "source": [
    "### Task: Neuron F-I curve and spike time regularity\n",
    "To address the above questions we will systematically vary the mean and standard deviation of the injected GWN and plot the F-I curve of the LIF neuron."
   ]
  },
  {
   "cell_type": "code",
   "execution_count": 45,
   "metadata": {
    "colab": {},
    "colab_type": "code",
    "id": "C-ejnNfKdVSF"
   },
   "outputs": [
    {
     "data": {
      "application/vnd.jupyter.widget-view+json": {
       "model_id": "efe2c83a9ac34281890233f0b9cd0200",
       "version_major": 2,
       "version_minor": 0
      },
      "text/plain": [
       "interactive(children=(FloatSlider(value=3.0, description='sig_gwn', layout=Layout(width='450px'), max=6.0, ste…"
      ]
     },
     "metadata": {},
     "output_type": "display_data"
    }
   ],
   "source": [
    "#@title F-I Explorer for different `sig_gwn`\n",
    "\n",
    "my_layout.width = '450px'\n",
    "@widgets.interact(\n",
    "    sig_gwn = widgets.FloatSlider(3.0, min=0., max=6., step=0.5, layout=my_layout)\n",
    ")\n",
    "\n",
    "def diff_std_affect_fI(sig_gwn):\n",
    "    pars = default_pars(T=1000.)\n",
    "    I_mean = np.arange(100.,400., 10.)\n",
    "    spk_count = np.zeros(len(I_mean))\n",
    "    spk_count_dc = np.zeros(len(I_mean))\n",
    "\n",
    "    for idx in range(len(I_mean)):\n",
    "        I_GWN = my_GWN(pars, mu=I_mean[idx], sig=sig_gwn, myseed=2020)\n",
    "        v, rec_spikes = run_LIF(pars, I =I_GWN)\n",
    "        v_dc, rec_sp_dc = run_LIF(pars, I =I_mean[idx])\n",
    "        spk_count[idx] = len(rec_spikes)\n",
    "        spk_count_dc[idx] = len(rec_sp_dc)\n",
    "    \n",
    "    # Plot the F-I curve i.e. Output firing rate as a function of input mean.\n",
    "    plt.figure()\n",
    "    plt.plot(I_mean, spk_count, 'k', label=r'$\\sigma_{\\mathrm{GWN}}=%.2f$' % sig_gwn)\n",
    "    plt.plot(I_mean, spk_count_dc, 'k--', alpha=0.5, lw=4, dashes=(2,2), label='DC input')\n",
    "    plt.ylabel('Spike count')\n",
    "    plt.xlabel('Average injected current (pA)')\n",
    "    plt.legend(loc='best')\n",
    "    plt.show()\n",
    "    \n",
    "#_ = widgets.interact(diff_std_affect_fI,sig_gwn = (0, 6., 1.))"
   ]
  },
  {
   "cell_type": "markdown",
   "metadata": {
    "colab_type": "text",
    "id": "Jv5_Me1gSYYk"
   },
   "source": [
    "#### Lets plot the results.\n",
    "We are interested in two variables. \n",
    "- Spike count\n",
    "- Irregularity of spike pattern\n",
    "\n"
   ]
  },
  {
   "cell_type": "code",
   "execution_count": 47,
   "metadata": {
    "colab": {
     "base_uri": "https://localhost:8080/",
     "height": 467
    },
    "colab_type": "code",
    "id": "8i4WJLm7SSLQ",
    "outputId": "4103f7da-fd0d-4d0d-b827-a91b628357f2"
   },
   "outputs": [
    {
     "data": {
      "image/png": "[encoded data removed]",
      "text/plain": [
       "<Figure size 792x288 with 2 Axes>"
      ]
     },
     "metadata": {
      "needs_background": "light"
     },
     "output_type": "display_data"
    }
   ],
   "source": [
    "#remove solutions\n",
    "pars = default_pars(T=1000.)\n",
    "mu_gwn  = 250.\n",
    "\n",
    "sig_gwn1 = 0.5\n",
    "I_GWN = my_GWN(pars, mu = mu_gwn, sig=sig_gwn1, myseed=2020)\n",
    "v, sp1 = run_LIF(pars, I=I_GWN)\n",
    "isi1 = np.diff(sp1)\n",
    "cv1 = isi1.std()/isi1.mean()\n",
    "\n",
    "sig_gwn2 = 3.0\n",
    "I_GWN = my_GWN(pars, mu = mu_gwn, sig=sig_gwn2, myseed=2020)\n",
    "v, sp2 = run_LIF(pars, I=I_GWN)\n",
    "isi2 = np.diff(sp2)\n",
    "cv2 = isi2.std()/isi2.mean()\n",
    "\n",
    "plt.figure(figsize=(11, 4))\n",
    "my_bins = np.linspace(10, 30, 20)\n",
    "plt.subplot(1, 2, 1)\n",
    "plt.hist(isi1, bins=my_bins, color='b', alpha=0.5);\n",
    "plt.xlabel('ISI (ms)')\n",
    "plt.ylabel('number')\n",
    "plt.title(r'$\\sigma=$%.1f, CV$_{\\mathrm{isi}}$=%.3f' % (sig_gwn1, cv1))\n",
    "\n",
    "plt.subplot(1, 2, 2)\n",
    "plt.hist(isi2, bins=my_bins, color='b', alpha=0.5);\n",
    "plt.xlabel('ISI (ms)')\n",
    "plt.ylabel('number')\n",
    "plt.title(r'$\\sigma=$%.1f, CV$_{\\mathrm{isi}}$=%.3f' % (sig_gwn2, cv2))\n",
    "plt.tight_layout()\n",
    "plt.show()"
   ]
  },
  {
   "cell_type": "code",
   "execution_count": 51,
   "metadata": {},
   "outputs": [
    {
     "data": {
      "application/vnd.jupyter.widget-view+json": {
       "model_id": "c294939a1d6a4236b46862de6a381485",
       "version_major": 2,
       "version_minor": 0
      },
      "text/plain": [
       "interactive(children=(FloatSlider(value=0.0, description='sig_gwn', layout=Layout(width='450px'), max=5.0, ste…"
      ]
     },
     "metadata": {},
     "output_type": "display_data"
    }
   ],
   "source": [
    "#@title Spike irregularity Explorer for different `sig_gwn`\n",
    "\n",
    "my_layout.width = '450px'\n",
    "@widgets.interact(\n",
    "    sig_gwn = widgets.FloatSlider(0.0, min=0., max=5., step=0.5, layout=my_layout)\n",
    ")\n",
    "\n",
    "\n",
    "def diff_std_affect_fI(sig_gwn):\n",
    "    pars = default_pars(T=1000.)\n",
    "    I_mean = np.arange(100.,400.,20)\n",
    "    spk_count = np.zeros(len(I_mean))\n",
    "    cv_isi = np.empty(len(I_mean))\n",
    "\n",
    "    for idx in range(len(I_mean)):\n",
    "        I_GWN = my_GWN(pars, mu=I_mean[idx], sig=sig_gwn)\n",
    "        v, rec_spikes = run_LIF(pars, I =I_GWN)\n",
    "        spk_count[idx] = len(rec_spikes)\n",
    "        if len(rec_spikes)>3:\n",
    "          isi = np.diff(rec_spikes)\n",
    "          cv_isi[idx] = np.std(isi)/np.mean(isi)\n",
    "    \n",
    "    # Plot the F-I curve i.e. Output firing rate as a function of input mean.\n",
    "    plt.plot(I_mean[spk_count>5],cv_isi[spk_count>5], 'bo', alpha=0.5)\n",
    "    plt.xlabel('Average injected current (pA)')\n",
    "    plt.ylabel(r'Spike irregularity ($\\mathrm{CV}_\\mathrm{ISI}$)');\n",
    "    plt.ylim(-0.1, 1.5)\n",
    "    plt.show()\n",
    "\n",
    "#_ = widgets.interact(diff_std_affect_fI,sig_gwn = (0, 5., 1.))"
   ]
  },
  {
   "cell_type": "markdown",
   "metadata": {
    "colab_type": "text",
    "id": "7vdviimqRdXl"
   },
   "source": [
    "# <font color='salmon'> Try to answer the following </font>\n",
    "- Does standard deviation of the injected current affects the F-I curve in any qualitative manner?\n",
    "- Why there might be a relationship between spike count (or rate) and CV_ISI? \n",
    "- Why increasing the mean of GWN reduced the CV_ISI?"
   ]
  },
  {
   "cell_type": "markdown",
   "metadata": {
    "colab_type": "text",
    "id": "Qb3r2hd_fWzX"
   },
   "source": [
    "# <font color='green'>Simulate synaptic conductance dynamics </font>\n",
    "\n",
    "Even GWN is a quite unphysiological to neurons. In vivo neuron receive spiking input which can be either excitatory (that drives the neuron towards the spike threshold) or inhibitory (that drives the neuron away from the spike threshold). \n",
    "\n",
    "The spikes arriving at the neuron result in opening of channels that result in change in the neuron conductance and eventual flow of current whose direction is determined by the type of ion flowing.\n",
    "\n",
    "This effect of an incoming spike at the neuron can be modelled a transient change in the neuron's conductance. The conductance change is convered to current  as:\n",
    "\\begin{align}\n",
    "I_{\\rm syn}(t) = -g_{\\rm syn}(t)(V(t)-V_{\\rm syn})  \\\\\n",
    "\\end{align}\n",
    "\n",
    "The reversal potential $V_{\\rm syn}$ describes the direction of current flow and the excitatory or inhibitory nature of the synapse. \n",
    "\n",
    "In a neuronal network, the total synaptic input current $I$ is a sum of both excitatory and inhibitory inputs. Assuming the total excitatory (inhibitory) conductance received at time $t$ is $g_E(t)$ ($g_I(t)$), and its corresponding reversal potential is $V_E$ ($V_I$). Then the total synaptic current can be described as: \n",
    "\n",
    "\\begin{align}\n",
    "I_{\\rm syn}(V(t),t) = -g_E(t) (V-V_E) - g_I(t) (V-V_I). \\\\\n",
    "\\end{align}\n",
    "\n",
    "Accordingly, the membrane potential dynamics of the LIF neuron under synaptic current drive becomes\n",
    "\n",
    "\\begin{align}\n",
    "\\tau_m\\frac{dV(t)}{dt} = -(V(t)-V_L) - \\frac{g_E(t)}{g_L} (V(t)-V_E) - \\frac{g_I(t)}{g_L} (V(t)-V_I) + \\frac{I_{\\rm inj}}{g_L}.\\quad (3)\n",
    "\\end{align}\n",
    "\n",
    "We will use Eqn. (3) to simulate the conductance-based LIF neuron model below."
   ]
  },
  {
   "cell_type": "markdown",
   "metadata": {
    "colab_type": "text",
    "id": "JT0CHyW4fZXn"
   },
   "source": [
    "### Model of synaptic conductance transients\n",
    "\n",
    "The dynamics of $g_E$ and $g_I$ is determined by the gating variables of the synaptic channels. Each synaptic receptor channel has two states: either open or closed. When an input arrives, we denote $s$ as the fraction of open channels, and denote $T$ as the concentration of neurotransmitters. By denoting $\\alpha_s$ and $\\beta_s$ as the rate of transition between the two states, we have the change of $s$ described as \n",
    "\n",
    "$$\n",
    "\\frac{ds}{dt} = \\alpha_s T(1-s) - \\beta_s s. \n",
    "$$ \n",
    "\n",
    "If we model $T$ by a sequence of short pulses $\\delta(t)$ at the input arrival times $t_k$, we can show that the gating variable dynamics are given by the following first order kinetics \n",
    "\n",
    "$$\n",
    "\\frac{ds}{dt} = \\alpha_s \\sum_k\\delta(t-t_k)(1-s) -s/\\tau_s, \\quad (4)\n",
    "$$\n",
    "where $\\tau_s=1/\\beta_s$ is defined as the synaptic time constant.\n",
    "\n",
    "\n",
    "Staring at Eqn. (4) above, we expect that, under high density of pulses (high input rate), the gating variable $s$ will increase towards its bound, which we set to be 1 here. And because of the factor $(1-s)$, each input pulse will become less and less efficient in driving $s$. This phenomenon is known as synaptic saturation.\n",
    "\n",
    "In fact, each open channel needs to take $\\sim \\tau_{s}$ to go back to the closed state. For fast AMPA (E) and GABA (I) dynamics with small $\\tau_{s}$, it is often reasonable to assume that $s\\ll 1$ such that one can ontain the following approximation\n",
    "\n",
    "$$\n",
    "\\frac{ds}{dt} = \\alpha_s \\sum_k \\delta(t-t_k) -s/\\tau_s. \\quad (5)\n",
    "$$\n",
    "\n",
    "Eqn. (5) can be analytically solved, and the solution takes the form of a linear summation of exponential functions.\n",
    "\n",
    "\n",
    "### Synaptic conductance dynamics\n",
    "\n",
    "The synaptic condutance is often modeled as $g=\\bar{g}s$, where $\\bar{g}$ is the maximum condutance if all synaptic channels are open. Accordingly, from Eqn. (5), we can describe the dynamics of excitatory and inhibitory condutances as \n",
    "\n",
    "\\begin{eqnarray}\n",
    "\\frac{dg_E(t)}{dt} &=& \\bar{g}_E \\sum_k \\delta(t-t_k) -g_E(t)/\\tau_E, \\\\\n",
    "\\frac{dg_I(t)}{dt} &=& \\bar{g}_I \\sum_k \\delta(t-t_k) -g_I(t)/\\tau_I. \n",
    "\\end{eqnarray}\n",
    "\n",
    "In the absence of any presynaptic pulse inputs, the excitatory and inhibitory synaptic conductances will decay to zero with time constant $\\tau_E$ and $\\tau_I$ respectively. Each presynaptic pulse input will increase the conductance $g_{\\rm X} (t)$ by an amount $\\bar{g}_{X}$ for ${\\rm X} =E, I$. Therefore, using the forward Euler scheme, we can derive the updating rule for the excitatory and inhibitory condutances\n",
    "\n",
    "\\begin{eqnarray}\n",
    "\\Delta g_X^n &=& -\\frac{g_X^n}{\\tau_X}\\Delta t + \\bar{g}_{X}\\cdot N_{X}^{n} \\\\\n",
    "g_X^{n+1} &=& g_X^n + \\Delta g_X^n \\quad {\\rm for\\ X}=E,\\ I \\\\\n",
    "\\end{eqnarray}\n",
    "\n",
    "where $N_{X}^{n}$ is the total number of the input pluses from presynaptic neurons within the time window $[n\\Delta t, (n+1)\\Delta t)$."
   ]
  },
  {
   "cell_type": "markdown",
   "metadata": {
    "colab_type": "text",
    "id": "CgO7mhM_fbk1"
   },
   "source": [
    "### Generation of Poisson type spike trains\n",
    "\n",
    "Mathematically a spike train is a Point Process. One of the simplest model of a sequence of presynaptic pulse inputs is the Poisson process. We know that given temporal integration and refractoriness, neurons cannot behave as a Poisson Process and Gamma Process gives a better approximation. \n",
    "Here however, we will assume that the incoming spike are following Poisson statistics. Question arises how to simulate a Poisson Process. The generation of the Poisson process can be realized by at least the following two ways:\n",
    "\n",
    "- By definition, for a Poisson process with rate $\\lambda$, the probability of finding one event in the time window with a sufficiently small length $\\Delta t$ is $P(N = 1) = \\lambda \\Delta t$. Therefore, in each time window, we generate a uniformly distributed random variable $r \\in [0,1]$ and generate a Poisson event when $r <\\lambda \\Delta t$. This method allows us to generate Poisson distributed spikes in an online manner.\n",
    "\n",
    "\n",
    "- The interval $t_{k+1}-t_{k}$ between two Poisson events with rate $\\lambda$ follows the exponential distribution, i.e., $P(t_{k+1}-t_{k}<t) = 1 - e^{\\lambda t}$. Therefore, we only need to generate a set of exponentially distributed variables $\\{s_k\\}$ to obtain the timing of Poisson events $t_{k+1}=t_{k}+s_{k}$. In this method we need to generate all future spikes at once. \n",
    "\n",
    "Below we use the first method and check the statistical property of the time interval between two Poisson events."
   ]
  },
  {
   "cell_type": "code",
   "execution_count": 52,
   "metadata": {
    "colab": {},
    "colab_type": "code",
    "id": "sGeDeA4-fWI6"
   },
   "outputs": [],
   "source": [
    "#@title `Poisson_generator(pars, rate, n, myseed=False)`\n",
    "def Poisson_generator(pars, rate, n, myseed=False):\n",
    "    \n",
    "    '''\n",
    "    Generates poisson trains\n",
    "    Expects:\n",
    "    pars       : parameter dictionary\n",
    "    rate       : noise amplitute [Hz]\n",
    "    n          : number of Poisson trains\n",
    "    myseed     : random seed. int or boolean\n",
    "    \n",
    "    Returns:\n",
    "    pre_spike_train : spike train matrix, ith row represents whether\n",
    "                      there is a spike in ith spike train over time\n",
    "                      (1 if spike, 0 otherwise)\n",
    "    '''\n",
    "    \n",
    "    # Retrieve simulation parameters\n",
    "    dt, range_t = pars['dt'], pars['range_t']\n",
    "    Lt = range_t.size\n",
    "    \n",
    "    # set random seed\n",
    "    if myseed:\n",
    "        np.random.seed(seed=myseed) \n",
    "    else:\n",
    "        np.random.seed()\n",
    "    \n",
    "    # generate uniformly distributed random variables\n",
    "    u_rand = np.random.rand(n, Lt)\n",
    "    \n",
    "    # generate Poisson train\n",
    "    poisson_train = 1. * (u_rand<rate*dt/1000.)\n",
    "    \n",
    "    return poisson_train\n",
    "\n",
    "# the function plot the raster of the Poisson spike train\n",
    "def my_raster_Poisson(range_t, spike_train, n):\n",
    "    '''\n",
    "    Generates poisson trains\n",
    "    Expects:\n",
    "    range_t     : time sequence \n",
    "    spike_train : binary spike trains, with shape (N, Lt)\n",
    "    n           : number of Poisson trains plot\n",
    "    \n",
    "    Returns:\n",
    "    Raster_plot of the spike train\n",
    "    '''\n",
    "    #find the number of all the spike trains\n",
    "    N = spike_train.shape[0]\n",
    "\n",
    "    # n should smaller than N:\n",
    "    if n > N:\n",
    "       print('The number n exceeds the size of spike trains')\n",
    "       print('The number n is set to be the size of spike trains')\n",
    "       n = N\n",
    "\n",
    "    #plot rater\n",
    "    i = 0\n",
    "    while i< n:\n",
    "        if spike_train[i, :].sum()>0.:\n",
    "          t_sp = range_t[spike_train[i, :]>0.5] #spike times \n",
    "          plt.plot(t_sp, i*np.ones(len(t_sp)), 'k|', ms=10, markeredgewidth=2)\n",
    "        i += 1\n",
    "    plt.xlim([range_t[0], range_t[-1]])\n",
    "    plt.ylim([-0.5, n+0.5])    \n",
    "    plt.xlabel('Time (ms)', fontsize=12)\n",
    "    plt.ylabel('Neuron ID', fontsize=12);"
   ]
  },
  {
   "cell_type": "markdown",
   "metadata": {
    "colab_type": "text",
    "id": "v28Gnd6Rffwj"
   },
   "source": [
    "Execute the cell below to generate a hundred Poisson trains."
   ]
  },
  {
   "cell_type": "code",
   "execution_count": 54,
   "metadata": {
    "colab": {
     "base_uri": "https://localhost:8080/",
     "height": 279
    },
    "colab_type": "code",
    "id": "NSM-drLwfhWs",
    "outputId": "c23c2c02-6145-4495-c11e-ff50e2e17bf6"
   },
   "outputs": [
    {
     "name": "stdout",
     "output_type": "stream",
     "text": [
      "Help on function my_raster_Poisson in module __main__:\n",
      "\n",
      "my_raster_Poisson(range_t, spike_train, n)\n",
      "    Generates poisson trains\n",
      "    Expects:\n",
      "    range_t     : time sequence \n",
      "    spike_train : binary spike trains, with shape (N, Lt)\n",
      "    n           : number of Poisson trains plot\n",
      "    \n",
      "    Returns:\n",
      "    Raster_plot of the spike train\n",
      "\n",
      "None\n"
     ]
    },
    {
     "data": {
      "image/png": "[encoded data removed]",
      "text/plain": [
       "<Figure size 576x432 with 1 Axes>"
      ]
     },
     "metadata": {
      "needs_background": "light"
     },
     "output_type": "display_data"
    }
   ],
   "source": [
    "# we can use Poisson_generator mimic presynaptic spike trains\n",
    "pars = default_pars()\n",
    "pre_spike_train = Poisson_generator(pars, rate=50, n=100)\n",
    "\n",
    "my_raster_Poisson(pars['range_t'], pre_spike_train, 100) \n",
    "\n",
    "# print(help(Poisson_generator))\n",
    "# print('\\n')\n",
    "print(help(my_raster_Poisson)) # use `help` to learn about the function"
   ]
  },
  {
   "cell_type": "markdown",
   "metadata": {
    "colab_type": "text",
    "id": "6YR4AThqfjtv"
   },
   "source": [
    "# <font color='salmon'> How do we make sure that the above spike trains are follwoing Poisson statistics?</font>\n",
    "A Poisson process must have the following properties:\n",
    "- The ratio of the mean and variance of spike count is 1.\n",
    "- Inter-spike-invervals are exponentially distributed\n",
    "- Spike times are irregular i.e. $CV_{ISI} = 1$\n",
    "- Adjancent spike internal are independent of each other. \n",
    "\n",
    "In the following we make one test.\n",
    "Execute the cell below and check that the interval time between two consecutive Poisson events follows the exponential distribution. \n",
    "\n",
    "You should write your own code to check for the other properties. "
   ]
  },
  {
   "cell_type": "code",
   "execution_count": 59,
   "metadata": {
    "colab": {
     "base_uri": "https://localhost:8080/",
     "height": 297
    },
    "colab_type": "code",
    "id": "oMqaksMrfl1z",
    "outputId": "ebb60149-924e-43fb-db0c-2a25b0321bc2"
   },
   "outputs": [
    {
     "data": {
      "image/png": "[encoded data removed]",
      "text/plain": [
       "<Figure size 648x288 with 2 Axes>"
      ]
     },
     "metadata": {
      "needs_background": "light"
     },
     "output_type": "display_data"
    }
   ],
   "source": [
    "pars = default_pars()\n",
    "pars['T'] = 1000.\n",
    "pre_spike_train = Poisson_generator(pars, rate=10, n=5000)\n",
    "spT = pre_spike_train[pre_spike_train.sum(axis=1)>1.,:]\n",
    "id_o = np.arange(pars['range_t'].size)\n",
    "t_isi_temp = id_o[spT[0, :]>0.5]\n",
    "t_isi = np.diff(t_isi_temp)*pars['dt']\n",
    "for i in range(spT.shape[0]-1):\n",
    "    t_isi_temp = id_o[spT[i+1, :]>0.5]\n",
    "    t_isi = np.concatenate((t_isi, np.diff(t_isi_temp)*pars['dt']))\n",
    "\n",
    "plt.figure(figsize=(9., 4.))\n",
    "\n",
    "plt.subplot(1,2,1)    \n",
    "isi_count, isi_bin = np.histogram(t_isi, bins = np.arange(0, 400.1, 4.))\n",
    "isi_bin = 0.5 * (isi_bin[1:] + isi_bin[:-1])\n",
    "plt.bar(isi_bin, isi_count, width=4.0, color='b', alpha=0.5)\n",
    "#plt.legend(loc='upper right')\n",
    "plt.xlabel('ISI (ms)')\n",
    "plt.ylabel('Number')\n",
    "\n",
    "plt.subplot(1,2,2)\n",
    "isi_count_normalize = isi_count/isi_count.sum()/(isi_bin[1]-isi_bin[0]) * 1000. #note the units\n",
    "plt.semilogy(isi_bin/1000., isi_count_normalize, 'b', alpha=0.5)\n",
    "plt.xlabel('ISI (s)')\n",
    "plt.ylabel(r'Probability density function (s$^{-1}$)')\n",
    "plt.tight_layout()"
   ]
  },
  {
   "cell_type": "markdown",
   "metadata": {
    "colab_type": "text",
    "id": "AeXHJjN6fo3W"
   },
   "source": [
    "### Simulate LIF neuron with conductance-based synapses\n",
    "\n",
    "We are now ready to simulate a LIF neuron with conductance based synaptic inputs! The following code defines the LIF neuron with synaptic input modelled as conductance transients."
   ]
  },
  {
   "cell_type": "code",
   "execution_count": 61,
   "metadata": {
    "colab": {},
    "colab_type": "code",
    "id": "ct0irfEwfpgJ"
   },
   "outputs": [],
   "source": [
    "def run_LIF_cond(pars, I_inj, pre_spike_train_ex, pre_spike_train_in):\n",
    "    '''\n",
    "    conductance-based LIF dynamics\n",
    "    \n",
    "    Expects:\n",
    "    pars               : parameter dictionary\n",
    "    I_inj              : injected current [pA]. The injected current here can be a value or an array\n",
    "    pre_spike_train_ex : spike train input from presynaptic excitatory neuron\n",
    "    pre_spike_train_in : spike train input from presynaptic inhibitory neuron\n",
    "    \n",
    "    Returns:\n",
    "    rec_spikes : spike times\n",
    "    rec_v      : mebrane potential\n",
    "    gE         : postsynaptic excitatory conductance\n",
    "    gI         : postsynaptic inhibitory conductance\n",
    "    '''\n",
    "    \n",
    "    # Retrieve parameters\n",
    "    V_th, V_reset = pars['V_th'], pars['V_reset']\n",
    "    tau_m, g_L = pars['tau_m'], pars['g_L']\n",
    "    V_init, V_L = pars['V_init'], pars['V_L']\n",
    "    gE_bar, gI_bar = pars['gE_bar'], pars['gI_bar']\n",
    "    VE, VI = pars['VE'], pars['VI']\n",
    "    tau_syn_E, tau_syn_I = pars['tau_syn_E'], pars['tau_syn_I']\n",
    "    tref = pars['tref'] \n",
    "    dt, range_t = pars['dt'], pars['range_t']\n",
    "    Lt = range_t.size\n",
    "    \n",
    "    # Initialize\n",
    "    tr = 0.\n",
    "    v = np.zeros(Lt)\n",
    "    v[0] = V_init\n",
    "    gE = np.zeros(Lt)\n",
    "    gI = np.zeros(Lt)\n",
    "    I = I_inj * np.ones(Lt) #ensure I has length Lt\n",
    "\n",
    "    if pre_spike_train_ex.max() == 0:\n",
    "      pre_spike_train_ex_total = np.zeros(Lt)\n",
    "    else:\n",
    "      pre_spike_train_ex_total = pre_spike_train_ex.sum(axis=0) * np.ones(Lt)\n",
    "\n",
    "    if pre_spike_train_in.max() == 0:\n",
    "      pre_spike_train_in_total = np.zeros(Lt)\n",
    "    else:\n",
    "      pre_spike_train_in_total = pre_spike_train_in.sum(axis=0) * np.ones(Lt)\n",
    "    \n",
    "    # simulation\n",
    "    rec_spikes = [] # recording spike times\n",
    "    for it in range(Lt-1):\n",
    "      if tr >0:\n",
    "            v[it] = V_reset\n",
    "            tr = tr-1\n",
    "      elif v[it] >= V_th:         #reset voltage and record spike event\n",
    "            rec_spikes.append(it)\n",
    "            v[it] = V_reset\n",
    "            tr = tref/dt\n",
    "      #update the synaptic conductance\n",
    "      gE[it+1] = gE[it] - (dt/tau_syn_E)*gE[it] + gE_bar*pre_spike_train_ex_total[it+1]\n",
    "      gI[it+1] = gI[it] - (dt/tau_syn_I)*gI[it] + gI_bar*pre_spike_train_in_total[it+1]\n",
    "        \n",
    "      #calculate the increment of the membrane potential\n",
    "      dv = (-(v[it]-V_L) - (gE[it+1]/g_L)*(v[it]-VE) - \\\n",
    "              (gI[it+1]/g_L)*(v[it]-VI) + I[it]/g_L) * (dt/tau_m)\n",
    "        \n",
    "      #update membrane potential\n",
    "      v[it+1] = v[it] + dv\n",
    "        \n",
    "    rec_spikes = np.array(rec_spikes) * dt\n",
    "        \n",
    "    return v, rec_spikes, gE, gI"
   ]
  },
  {
   "cell_type": "markdown",
   "metadata": {
    "colab_type": "text",
    "id": "TtX5cjCe1Rxi"
   },
   "source": [
    "### Excitation and inhibition balance\n",
    "In vivo a neuron in the neocortex receives a number of excitatory and inhibitory inputs. At the simplest we can assume that these input spikes follow Poissonian statistics. \n",
    "In the following we will study how varying the ratio of excitatory and inhibitory inputs changes the firing rate and the spike time regularity. \n",
    "\n",
    "To change the exc. and inh. inputs we will vary the firing rates. But if you wish you can vary the strength and/or number of these connections. "
   ]
  },
  {
   "cell_type": "code",
   "execution_count": 93,
   "metadata": {
    "colab": {
     "base_uri": "https://localhost:8080/",
     "height": 415,
     "referenced_widgets": [
      "bd47ce5047a9417aba91bab3acabd4b0",
      "aec6ac2b8f514e0d8304025b7fabdca2",
      "06b1e195717c4114ae0d101be85223b5",
      "2a0b6649de0842929a7f5126c0596c41",
      "6e4a2c308bb44fe1b46b97fe78657582",
      "f1659899f25c49a98b265a609a84764d",
      "2b72ecd6b4a842c9b88d2d4f76481166",
      "78e570d8a607419eb8f3f66b6e53da88",
      "8e261a2ddc754adaaeac02b1f1946cc7",
      "d6409d6fc5004727be446c04c4c5ad88"
     ]
    },
    "colab_type": "code",
    "id": "wwCQTx3w1RUq",
    "outputId": "c725c4e6-3a04-496f-b0d5-3ae87e6d643b"
   },
   "outputs": [
    {
     "data": {
      "application/vnd.jupyter.widget-view+json": {
       "model_id": "52d567345e184045b2c68901cbab174b",
       "version_major": 2,
       "version_minor": 0
      },
      "text/plain": [
       "interactive(children=(FloatSlider(value=15.0, description='exc_rate', max=20.0, min=5.0, step=2.0), FloatSlide…"
      ]
     },
     "metadata": {},
     "output_type": "display_data"
    }
   ],
   "source": [
    "def ei_balance_isi_regularity(exc_rate = 15, inh_rate = 45):\n",
    "  pars = default_pars()\n",
    "  # Set the duration of simulartion\n",
    "  pars['T'] = 1000.\n",
    "  pars['range_t'] = np.arange(0, pars['T'], pars['dt']) # Vector of discretized time points [ms]\n",
    "\n",
    "  # Set the firing rate of the excitatory and inhibitory inputs\n",
    "  exc_rate = 15. # excitatory firing rate\n",
    "  inh_rate = 45. # inhibitory firing rate\n",
    "\n",
    "  gE        = 3.   #nS\n",
    "  E_rev     = 0.    #mv\n",
    "  tau_syn_e = 2.    #ms\n",
    "  gI        = 3.   #nS\n",
    "  tau_syn_i = 5.   #ms\n",
    "  I_rev     = -80.  #mv\n",
    "  V_th      = -55.  #mV\n",
    "\n",
    "  pars['V_L'] = -70. # mV\n",
    "  pars['gE_bar']    = gE\n",
    "  pars['VE']        = E_rev\n",
    "  pars['tau_syn_E'] = tau_syn_e\n",
    "  pars['gI_bar']    = gI\n",
    "  pars['VI']        = I_rev\n",
    "  pars['tau_syn_I'] = tau_syn_i\n",
    "\n",
    "\n",
    "  pre_spike_train_ex = Poisson_generator(pars, rate=exc_rate, n=80)\n",
    "  pre_spike_train_in = Poisson_generator(pars, rate=inh_rate, n=20) # 4:1\n",
    "\n",
    "\n",
    "  # Lets first simulate a neuron with identical input but with no spike threshold \n",
    "  # so that we can look at the free membrane potential\n",
    "  pars['V_th'] = 1e3\n",
    "\n",
    "  v_fmp, rec_spikes, gE, gI = run_LIF_cond(pars, 0, pre_spike_train_ex, pre_spike_train_in)\n",
    "\n",
    "  # Now simulate a LIP with a spike threshold\n",
    "  pars['V_th'] = -55. \n",
    "  v, rec_spikes, gE, gI = run_LIF_cond(pars, 0, pre_spike_train_ex, pre_spike_train_in)\n",
    "\n",
    "  spike_rate = 1e3*len(rec_spikes)/pars['T']\n",
    "\n",
    "  cv_isi = 0.\n",
    "  if len(rec_spikes)>3:\n",
    "    isi = np.diff(rec_spikes)\n",
    "    cv_isi = np.std(isi)/np.mean(isi)\n",
    "\n",
    "  # histogram of the free membrane potential\n",
    "  ed = np.arange(-80.,-45,0.1)\n",
    "  fmp_hh, edx = np.histogram(v_fmp,ed)\n",
    "  fmp_hh = fmp_hh/len(v_fmp)\n",
    "    \n",
    "  print('Spike Rate = ', str(spike_rate))\n",
    "  print('CV ISI = ', str(cv_isi))\n",
    "  print('Mean of Free Mem Pot = ', str(np.mean(v_fmp)))\n",
    "  print('STD of Free Mem Pot = ', str(np.std(v_fmp)))\n",
    "\n",
    "\n",
    "  plt.figure(figsize=(15., 10))\n",
    "\n",
    "  plt.subplot(2,1,1)\n",
    "  plt.plot(pars['range_t'], v_fmp, 'r',label = 'Free mem. pot.')\n",
    "  plt.plot(pars['range_t'], v, label = 'mem. pot with spk thr')\n",
    "  plt.plot([pars['range_t'][0], pars['range_t'][-1]],[pars['V_th'], pars['V_th'] ],'--',label = 'Spike Threshold') \n",
    "  plt.plot([pars['range_t'][0], pars['range_t'][-1]],[np.mean(v_fmp), np.mean(v_fmp) ],'--',label = 'Mean Free Mem. Pot.') \n",
    "  plt.xlabel('Time (ms)')\n",
    "  plt.ylabel('V (mV)');\n",
    "  plt.legend(loc='upper right')\n",
    "  plt.plot(fmp_hh*1e4-150,edx[:-1],'r')\n",
    "\n",
    "  plt.subplot(2,2,3)\n",
    "  plt.plot(pars['range_t'], gE, 'g')\n",
    "  plt.xlabel('Time (ms)')\n",
    "  plt.ylabel(r'$g_E$ (nS)')\n",
    "\n",
    "  plt.subplot(2,2,4)\n",
    "  plt.plot(pars['range_t'], gI, 'b')\n",
    "  plt.xlabel('Time (ms)')\n",
    "  plt.ylabel(r'$g_I$ (nS)')\n",
    "\n",
    "  plt.tight_layout()\n",
    "  return rec_spikes\n",
    "\n",
    "rec_spikes = widgets.interact(ei_balance_isi_regularity, inh_rate = (10., 60., 5.), exc_rate = (5.,20.,2))"
   ]
  },
  {
   "cell_type": "markdown",
   "metadata": {
    "colab_type": "text",
    "id": "74n36V9cjcSZ"
   },
   "source": [
    "# <font color=salmon>Think</font>\n",
    "- You might have checked that when you increased Exc rate output firing rate increased and when you increased Inh rate output firing rate decreased. How do you think the output firing rate varies when both exc and inh rates are varied simultaneously?  \n",
    "\n",
    "- How much you can increase the spike pattern variability? Note we are injected Poisson type spikes, under what condition the neuron may also respond with Poisson type spikes? \n"
   ]
  },
  {
   "cell_type": "markdown",
   "metadata": {
    "colab_type": "text",
    "id": "EiPnvdkC9Kw3"
   },
   "source": [
    "### Effect of excitatory and inhibitory input on the neuron spike output (rate and irregularity)\n",
    "\n",
    "In the following we will systematically vary the exc. and inh. rate. We will measure the mean free membrane potential, spike rate and CV of the output spike pattern. \n",
    "\n",
    "*Mean free membrane potential* is the mem. pot. of the neuron when spike threshold is removed. This is completely artificial but this variable allows us to get an idea of how strong the input it. Especially we are interested in knowing the  mean and std. of the free mem. pot.\n",
    "\n",
    "Depending on the range and resolution it may take some time so start with a coarser resolution."
   ]
  },
  {
   "cell_type": "code",
   "execution_count": 95,
   "metadata": {
    "colab": {},
    "colab_type": "code",
    "id": "4H5mDLYK9KBo"
   },
   "outputs": [],
   "source": [
    "# Set the range of Excitatory and inhibtory firing rates\n",
    "exc_rate = np.arange(5.,30.,2) # excitatory firing rate [SET YOUR RANGE HERE]\n",
    "inh_rate = np.arange(5.,80.,5) # inhibitory firing rate [SET YOUR RANGE HERE]\n",
    "\n",
    "# Set the duration of simulation\n",
    "gE        = 3.   #nS\n",
    "E_rev     = 0.    #mv\n",
    "tau_syn_e = 2.    #ms\n",
    "gI        = 3.   #nS\n",
    "tau_syn_i = 5.   #ms\n",
    "I_rev     = -80.  #mv\n",
    "V_th      = -55.  #mV\n",
    "\n",
    "pars['T'] = 1000.\n",
    "pars['range_t'] = np.arange(0, pars['T'], pars['dt']) # Vector of discretized time points [ms]\n",
    "\n",
    "pars['V_L']    = -70. # mV\n",
    "pars['gE_bar']    = gE\n",
    "pars['VE']        = E_rev\n",
    "pars['tau_syn_E'] = tau_syn_e\n",
    "pars['gI_bar']    = gI\n",
    "pars['VI']        = I_rev\n",
    "pars['tau_syn_I'] = tau_syn_i\n",
    "\n",
    "mean_fmp = np.zeros((len(exc_rate),len(inh_rate)))\n",
    "std_fmp = np.zeros((len(exc_rate),len(inh_rate)))\n",
    "spk_rate = np.zeros((len(exc_rate),len(inh_rate)))\n",
    "cv_isi = np.empty((len(exc_rate),len(inh_rate)))\n",
    "cv_isi[:] = np.NaN\n",
    "\n",
    "for ii in range(len(exc_rate)):\n",
    "  for jj in range(len(inh_rate)):\n",
    "    pre_spike_train_ex = Poisson_generator(pars, rate=exc_rate[ii], n=80)\n",
    "    pre_spike_train_in = Poisson_generator(pars, rate=inh_rate[jj], n=20) # 4:1\n",
    "    pars['V_th'] = 1e4\n",
    "    v_fmp, rec_spikes, gE, gI = run_LIF_cond(pars, 0, pre_spike_train_ex, pre_spike_train_in)\n",
    "    pars['V_th'] = V_th \n",
    "    v, rec_spikes, gE, gI = run_LIF_cond(pars, 0, pre_spike_train_ex, pre_spike_train_in)\n",
    "    mean_fmp[ii,jj] = np.mean(v_fmp)\n",
    "    std_fmp[ii,jj] = np.std(v_fmp)\n",
    "    spk_rate[ii,jj] = 1e3*len(rec_spikes)/pars['T']\n",
    "    if len(rec_spikes)>3:\n",
    "      isi = np.diff(rec_spikes)\n",
    "      cv_isi[ii,jj] = np.std(isi)/np.mean(isi)"
   ]
  },
  {
   "cell_type": "code",
   "execution_count": 96,
   "metadata": {
    "colab": {
     "base_uri": "https://localhost:8080/",
     "height": 723
    },
    "colab_type": "code",
    "id": "KKL0Bo8lALfL",
    "outputId": "ef24d351-0591-43cc-8b73-279beb9e4880"
   },
   "outputs": [
    {
     "data": {
      "image/png": "[encoded data removed]",
      "text/plain": [
       "<Figure size 576x432 with 8 Axes>"
      ]
     },
     "metadata": {
      "needs_background": "light"
     },
     "output_type": "display_data"
    },
    {
     "data": {
      "text/plain": [
       "<Figure size 576x432 with 0 Axes>"
      ]
     },
     "metadata": {},
     "output_type": "display_data"
    },
    {
     "data": {
      "image/png": "[encoded data removed]",
      "text/plain": [
       "<Figure size 1440x576 with 4 Axes>"
      ]
     },
     "metadata": {
      "needs_background": "light"
     },
     "output_type": "display_data"
    }
   ],
   "source": [
    "plt.figure()\n",
    "\n",
    "plt.subplot(2,2,1)\n",
    "plt.pcolor(exc_rate,inh_rate,mean_fmp.T)\n",
    "plt.colorbar()\n",
    "#plt.clim([-70,-55])\n",
    "plt.xlabel('Exc. Rate (Hz)')\n",
    "plt.ylabel('Inh. Rate (Hz)')\n",
    "plt.title('Mean of Free Mem. Pot.')\n",
    "\n",
    "plt.subplot(2,2,2)\n",
    "plt.pcolor(exc_rate,inh_rate,std_fmp.T)\n",
    "plt.colorbar()\n",
    "plt.xlabel('Exc. Rate (Hz)')\n",
    "plt.ylabel('Inh. Rate (Hz)')\n",
    "plt.title('Std. of Free Mem. Pot.')\n",
    "\n",
    "\n",
    "# Plot Firing rate as a function of both mean and std. Firing rate is rendered as color\n",
    "plt.subplot(2,2,3)\n",
    "plt.pcolor(exc_rate,inh_rate,spk_rate.T)\n",
    "plt.colorbar()\n",
    "plt.clim(0,50)\n",
    "plt.xlabel('Exc. Rate (Hz)')\n",
    "plt.ylabel('Inh. Rate (Hz)')\n",
    "plt.title('Mean Firing Rate')\n",
    "\n",
    "# Plot Spike time irregularity (CV_ISI) as a function of both mean and std. CV_isi is rendered as color\n",
    "plt.subplot(2,2,4)\n",
    "plt.pcolor(exc_rate,inh_rate,cv_isi.T)\n",
    "plt.colorbar()\n",
    "plt.clim(0,1)\n",
    "plt.xlabel('Exc. Rate (Hz)')\n",
    "plt.ylabel('Inh. Rate (Hz)')\n",
    "plt.title('CV of ISI')\n",
    "\n",
    "plt.tight_layout()\n",
    "\n",
    "plt.figure()\n",
    "plt.figure(figsize=(20, 8))\n",
    "plt.subplot(1,4,1)\n",
    "plt.plot(mean_fmp,cv_isi,'.b')\n",
    "plt.plot([V_th, V_th],[0 ,1.4],'r')\n",
    "plt.ylim((0,1.4))\n",
    "#plt.xlim((-62,-45))\n",
    "plt.xlim((-65,-45))\n",
    "plt.xlabel('Mean Free Mem. Pot. (mV)')\n",
    "plt.ylabel('CV of ISI')\n",
    "\n",
    "plt.subplot(1,4,2)\n",
    "plt.plot(mean_fmp,std_fmp,'.b')\n",
    "plt.plot([V_th, V_th],[2 ,6],'r')\n",
    "plt.ylim((2.5,6))\n",
    "plt.xlim((-65,-45))\n",
    "plt.ylabel('STD. Free Mem. Pot. (mV)')\n",
    "plt.xlabel('Mean Free Mem. Pot. (mV)')\n",
    "\n",
    "plt.subplot(1,4,3)\n",
    "plt.plot(std_fmp,cv_isi,'.b')\n",
    "plt.ylim((0,1.4))\n",
    "#plt.xlim((-62,-45))\n",
    "plt.xlabel('STD. Free Mem. Pot. (mV)')\n",
    "plt.ylabel('CV of ISI')\n",
    "\n",
    "\n",
    "plt.subplot(1,4,4)\n",
    "plt.plot(spk_rate,cv_isi,'.b')\n",
    "plt.ylim((0,1.4))\n",
    "plt.xlabel('Output spike rate (Hz)')\n",
    "plt.ylabel('CV of ISI')\n",
    "\n",
    "plt.tight_layout()\n"
   ]
  },
  {
   "cell_type": "markdown",
   "metadata": {
    "colab_type": "text",
    "id": "ZtTwBRtRP0gD"
   },
   "source": [
    "# <font color=salmon>Try to answer the following</font>\n",
    "- What are input configurations that result in irregular spiking outpout?\n",
    "- One of the definition of excitation and inhibition balance is that mean free membrane potential remains constant as exc and inh input rates are increased. What do you think happens to the neuron firing rate as we change exc. and inh. rates while keeping the neuron in balance. \n"
   ]
  },
  {
   "cell_type": "markdown",
   "metadata": {
    "colab_type": "text",
    "id": "U6TerrNAkdtF"
   },
   "source": [
    "### Mean-driven and Fluctuation-driven regimes\n",
    "\n",
    "If we look at the figure above, we note that when the mean free mem. pot. is above the spike threshold, the fluctuations in the free mem pot are rather small and the neuron spikes in more or less regular fashion. This regime when mean of the free mem. pot. is above the spike threshold is called the **Mean driven Regime**. \n",
    "\n",
    "\n",
    "When the mean free mem. pot. is below the spike threshold, the fluctuations in the free mem pot are big and the neuron spikes are driven by the fluctuations. As a consequence the neuron spikes in more or less Poisson fashion. This regime when mean of the free mem. pot. is below the spike threshold and spikes are driven by fluctuation is called the **Fluctuation driven Regime**. "
   ]
  }
 ],
 "metadata": {
  "colab": {
   "collapsed_sections": [],
   "name": "Basic_LIF_code.ipynb",
   "provenance": [],
   "toc_visible": true
  },
  "kernelspec": {
   "display_name": "Python 3 (ipykernel)",
   "language": "python",
   "name": "python3"
  },
  "language_info": {
   "codemirror_mode": {
    "name": "ipython",
    "version": 3
   },
   "file_extension": ".py",
   "mimetype": "text/x-python",
   "name": "python",
   "nbconvert_exporter": "python",
   "pygments_lexer": "ipython3",
   "version": "3.7.9"
  },
  "varInspector": {
   "cols": {
    "lenName": 16,
    "lenType": 16,
    "lenVar": 40
   },
   "kernels_config": {
    "python": {
     "delete_cmd_postfix": "",
     "delete_cmd_prefix": "del ",
     "library": "var_list.py",
     "varRefreshCmd": "print(var_dic_list())"
    },
    "r": {
     "delete_cmd_postfix": ") ",
     "delete_cmd_prefix": "rm(",
     "library": "var_list.r",
     "varRefreshCmd": "cat(var_dic_list()) "
    }
   },
   "types_to_exclude": [
    "module",
    "function",
    "builtin_function_or_method",
    "instance",
    "_Feature"
   ],
   "window_display": false
  },
  "widgets": {
   "application/vnd.jupyter.widget-state+json": {
    "06b1e195717c4114ae0d101be85223b5": {
     "model_module": "@jupyter-widgets/controls",
     "model_name": "FloatSliderModel",
     "state": {
      "_dom_classes": [],
      "_model_module": "@jupyter-widgets/controls",
      "_model_module_version": "1.5.0",
      "_model_name": "FloatSliderModel",
      "_view_count": null,
      "_view_module": "@jupyter-widgets/controls",
      "_view_module_version": "1.5.0",
      "_view_name": "FloatSliderView",
      "continuous_update": true,
      "description": "exc_rate",
      "description_tooltip": null,
      "disabled": false,
      "layout": "IPY_MODEL_2b72ecd6b4a842c9b88d2d4f76481166",
      "max": 20,
      "min": 5,
      "orientation": "horizontal",
      "readout": true,
      "readout_format": ".2f",
      "step": 2,
      "style": "IPY_MODEL_f1659899f25c49a98b265a609a84764d",
      "value": 15
     }
    },
    "2a0b6649de0842929a7f5126c0596c41": {
     "model_module": "@jupyter-widgets/controls",
     "model_name": "FloatSliderModel",
     "state": {
      "_dom_classes": [],
      "_model_module": "@jupyter-widgets/controls",
      "_model_module_version": "1.5.0",
      "_model_name": "FloatSliderModel",
      "_view_count": null,
      "_view_module": "@jupyter-widgets/controls",
      "_view_module_version": "1.5.0",
      "_view_name": "FloatSliderView",
      "continuous_update": true,
      "description": "inh_rate",
      "description_tooltip": null,
      "disabled": false,
      "layout": "IPY_MODEL_8e261a2ddc754adaaeac02b1f1946cc7",
      "max": 60,
      "min": 10,
      "orientation": "horizontal",
      "readout": true,
      "readout_format": ".2f",
      "step": 5,
      "style": "IPY_MODEL_78e570d8a607419eb8f3f66b6e53da88",
      "value": 45
     }
    },
    "2b72ecd6b4a842c9b88d2d4f76481166": {
     "model_module": "@jupyter-widgets/base",
     "model_name": "LayoutModel",
     "state": {
      "_model_module": "@jupyter-widgets/base",
      "_model_module_version": "1.2.0",
      "_model_name": "LayoutModel",
      "_view_count": null,
      "_view_module": "@jupyter-widgets/base",
      "_view_module_version": "1.2.0",
      "_view_name": "LayoutView",
      "align_content": null,
      "align_items": null,
      "align_self": null,
      "border": null,
      "bottom": null,
      "display": null,
      "flex": null,
      "flex_flow": null,
      "grid_area": null,
      "grid_auto_columns": null,
      "grid_auto_flow": null,
      "grid_auto_rows": null,
      "grid_column": null,
      "grid_gap": null,
      "grid_row": null,
      "grid_template_areas": null,
      "grid_template_columns": null,
      "grid_template_rows": null,
      "height": null,
      "justify_content": null,
      "justify_items": null,
      "left": null,
      "margin": null,
      "max_height": null,
      "max_width": null,
      "min_height": null,
      "min_width": null,
      "object_fit": null,
      "object_position": null,
      "order": null,
      "overflow": null,
      "overflow_x": null,
      "overflow_y": null,
      "padding": null,
      "right": null,
      "top": null,
      "visibility": null,
      "width": null
     }
    },
    "42259d05ff2f4918b1d2a033efb886e9": {
     "model_module": "@jupyter-widgets/controls",
     "model_name": "FloatSliderModel",
     "state": {
      "_dom_classes": [],
      "_model_module": "@jupyter-widgets/controls",
      "_model_module_version": "1.5.0",
      "_model_name": "FloatSliderModel",
      "_view_count": null,
      "_view_module": "@jupyter-widgets/controls",
      "_view_module_version": "1.5.0",
      "_view_name": "FloatSliderView",
      "continuous_update": true,
      "description": "I_dc",
      "description_tooltip": null,
      "disabled": false,
      "layout": "IPY_MODEL_dd8f526b9df441b8bf08875c10e4407c",
      "max": 300,
      "min": 100,
      "orientation": "horizontal",
      "readout": true,
      "readout_format": ".2f",
      "step": 5,
      "style": "IPY_MODEL_5abad92cddcf4cb0b94c07c190bc7e38",
      "value": 300
     }
    },
    "5abad92cddcf4cb0b94c07c190bc7e38": {
     "model_module": "@jupyter-widgets/controls",
     "model_name": "SliderStyleModel",
     "state": {
      "_model_module": "@jupyter-widgets/controls",
      "_model_module_version": "1.5.0",
      "_model_name": "SliderStyleModel",
      "_view_count": null,
      "_view_module": "@jupyter-widgets/base",
      "_view_module_version": "1.2.0",
      "_view_name": "StyleView",
      "description_width": "",
      "handle_color": null
     }
    },
    "5e3758ad02a44eecbd564634623d4629": {
     "model_module": "@jupyter-widgets/base",
     "model_name": "LayoutModel",
     "state": {
      "_model_module": "@jupyter-widgets/base",
      "_model_module_version": "1.2.0",
      "_model_name": "LayoutModel",
      "_view_count": null,
      "_view_module": "@jupyter-widgets/base",
      "_view_module_version": "1.2.0",
      "_view_name": "LayoutView",
      "align_content": null,
      "align_items": null,
      "align_self": null,
      "border": null,
      "bottom": null,
      "display": null,
      "flex": null,
      "flex_flow": null,
      "grid_area": null,
      "grid_auto_columns": null,
      "grid_auto_flow": null,
      "grid_auto_rows": null,
      "grid_column": null,
      "grid_gap": null,
      "grid_row": null,
      "grid_template_areas": null,
      "grid_template_columns": null,
      "grid_template_rows": null,
      "height": null,
      "justify_content": null,
      "justify_items": null,
      "left": null,
      "margin": null,
      "max_height": null,
      "max_width": null,
      "min_height": null,
      "min_width": null,
      "object_fit": null,
      "object_position": null,
      "order": null,
      "overflow": null,
      "overflow_x": null,
      "overflow_y": null,
      "padding": null,
      "right": null,
      "top": null,
      "visibility": null,
      "width": null
     }
    },
    "6a604a2d89cf409580497bce458aad46": {
     "model_module": "@jupyter-widgets/base",
     "model_name": "LayoutModel",
     "state": {
      "_model_module": "@jupyter-widgets/base",
      "_model_module_version": "1.2.0",
      "_model_name": "LayoutModel",
      "_view_count": null,
      "_view_module": "@jupyter-widgets/base",
      "_view_module_version": "1.2.0",
      "_view_name": "LayoutView",
      "align_content": null,
      "align_items": null,
      "align_self": null,
      "border": null,
      "bottom": null,
      "display": null,
      "flex": null,
      "flex_flow": null,
      "grid_area": null,
      "grid_auto_columns": null,
      "grid_auto_flow": null,
      "grid_auto_rows": null,
      "grid_column": null,
      "grid_gap": null,
      "grid_row": null,
      "grid_template_areas": null,
      "grid_template_columns": null,
      "grid_template_rows": null,
      "height": null,
      "justify_content": null,
      "justify_items": null,
      "left": null,
      "margin": null,
      "max_height": null,
      "max_width": null,
      "min_height": null,
      "min_width": null,
      "object_fit": null,
      "object_position": null,
      "order": null,
      "overflow": null,
      "overflow_x": null,
      "overflow_y": null,
      "padding": null,
      "right": null,
      "top": null,
      "visibility": null,
      "width": null
     }
    },
    "6e4a2c308bb44fe1b46b97fe78657582": {
     "model_module": "@jupyter-widgets/output",
     "model_name": "OutputModel",
     "state": {
      "_dom_classes": [],
      "_model_module": "@jupyter-widgets/output",
      "_model_module_version": "1.0.0",
      "_model_name": "OutputModel",
      "_view_count": null,
      "_view_module": "@jupyter-widgets/output",
      "_view_module_version": "1.0.0",
      "_view_name": "OutputView",
      "layout": "IPY_MODEL_d6409d6fc5004727be446c04c4c5ad88",
      "msg_id": "",
      "outputs": [
       {
        "metadata": {
         "tags": []
        },
        "output_type": "stream",
        "stream": "stdout",
        "text": "Spike Rate =  27.0\nCV ISI =  0.8480902681144009\nMean of Free Mem Pot =  -59.457493248612515\nSTD of Free Mem Pot =  4.281139036986784\n"
       },
       {
        "image/png": "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\n",
        "metadata": {
         "needs_background": "light",
         "tags": []
        },
        "output_type": "display_data",
        "text/plain": "<Figure size 1080x288 with 3 Axes>"
       },
       {
        "metadata": {
         "tags": []
        },
        "output_type": "display_data",
        "text/plain": "array([  6.5,  45.1, 135.4, 160.2, 175.6, 187.9, 195. , 206.4, 239.4,\n       245.1, 267.7, 281.7, 308.9, 333.2, 340.4, 359.4, 436.9, 458.9,\n       478.6, 607.7, 661.3, 715. , 750.5, 819.7, 853.2, 947.7, 958.4])"
       }
      ]
     }
    },
    "6f0aa47e1d9142c9878894e4a8cc9c39": {
     "model_module": "@jupyter-widgets/controls",
     "model_name": "VBoxModel",
     "state": {
      "_dom_classes": [
       "widget-interact"
      ],
      "_model_module": "@jupyter-widgets/controls",
      "_model_module_version": "1.5.0",
      "_model_name": "VBoxModel",
      "_view_count": null,
      "_view_module": "@jupyter-widgets/controls",
      "_view_module_version": "1.5.0",
      "_view_name": "VBoxView",
      "box_style": "",
      "children": [
       "IPY_MODEL_42259d05ff2f4918b1d2a033efb886e9",
       "IPY_MODEL_ab0aa65f24794a018d7be9262caec260"
      ],
      "layout": "IPY_MODEL_5e3758ad02a44eecbd564634623d4629"
     }
    },
    "78e570d8a607419eb8f3f66b6e53da88": {
     "model_module": "@jupyter-widgets/controls",
     "model_name": "SliderStyleModel",
     "state": {
      "_model_module": "@jupyter-widgets/controls",
      "_model_module_version": "1.5.0",
      "_model_name": "SliderStyleModel",
      "_view_count": null,
      "_view_module": "@jupyter-widgets/base",
      "_view_module_version": "1.2.0",
      "_view_name": "StyleView",
      "description_width": "",
      "handle_color": null
     }
    },
    "8e261a2ddc754adaaeac02b1f1946cc7": {
     "model_module": "@jupyter-widgets/base",
     "model_name": "LayoutModel",
     "state": {
      "_model_module": "@jupyter-widgets/base",
      "_model_module_version": "1.2.0",
      "_model_name": "LayoutModel",
      "_view_count": null,
      "_view_module": "@jupyter-widgets/base",
      "_view_module_version": "1.2.0",
      "_view_name": "LayoutView",
      "align_content": null,
      "align_items": null,
      "align_self": null,
      "border": null,
      "bottom": null,
      "display": null,
      "flex": null,
      "flex_flow": null,
      "grid_area": null,
      "grid_auto_columns": null,
      "grid_auto_flow": null,
      "grid_auto_rows": null,
      "grid_column": null,
      "grid_gap": null,
      "grid_row": null,
      "grid_template_areas": null,
      "grid_template_columns": null,
      "grid_template_rows": null,
      "height": null,
      "justify_content": null,
      "justify_items": null,
      "left": null,
      "margin": null,
      "max_height": null,
      "max_width": null,
      "min_height": null,
      "min_width": null,
      "object_fit": null,
      "object_position": null,
      "order": null,
      "overflow": null,
      "overflow_x": null,
      "overflow_y": null,
      "padding": null,
      "right": null,
      "top": null,
      "visibility": null,
      "width": null
     }
    },
    "ab0aa65f24794a018d7be9262caec260": {
     "model_module": "@jupyter-widgets/output",
     "model_name": "OutputModel",
     "state": {
      "_dom_classes": [],
      "_model_module": "@jupyter-widgets/output",
      "_model_module_version": "1.0.0",
      "_model_name": "OutputModel",
      "_view_count": null,
      "_view_module": "@jupyter-widgets/output",
      "_view_module_version": "1.0.0",
      "_view_name": "OutputView",
      "layout": "IPY_MODEL_6a604a2d89cf409580497bce458aad46",
      "msg_id": "",
      "outputs": [
       {
        "image/png": "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\n",
        "metadata": {
         "needs_background": "light",
         "tags": []
        },
        "output_type": "display_data",
        "text/plain": "<Figure size 432x288 with 1 Axes>"
       }
      ]
     }
    },
    "aec6ac2b8f514e0d8304025b7fabdca2": {
     "model_module": "@jupyter-widgets/base",
     "model_name": "LayoutModel",
     "state": {
      "_model_module": "@jupyter-widgets/base",
      "_model_module_version": "1.2.0",
      "_model_name": "LayoutModel",
      "_view_count": null,
      "_view_module": "@jupyter-widgets/base",
      "_view_module_version": "1.2.0",
      "_view_name": "LayoutView",
      "align_content": null,
      "align_items": null,
      "align_self": null,
      "border": null,
      "bottom": null,
      "display": null,
      "flex": null,
      "flex_flow": null,
      "grid_area": null,
      "grid_auto_columns": null,
      "grid_auto_flow": null,
      "grid_auto_rows": null,
      "grid_column": null,
      "grid_gap": null,
      "grid_row": null,
      "grid_template_areas": null,
      "grid_template_columns": null,
      "grid_template_rows": null,
      "height": null,
      "justify_content": null,
      "justify_items": null,
      "left": null,
      "margin": null,
      "max_height": null,
      "max_width": null,
      "min_height": null,
      "min_width": null,
      "object_fit": null,
      "object_position": null,
      "order": null,
      "overflow": null,
      "overflow_x": null,
      "overflow_y": null,
      "padding": null,
      "right": null,
      "top": null,
      "visibility": null,
      "width": null
     }
    },
    "bd47ce5047a9417aba91bab3acabd4b0": {
     "model_module": "@jupyter-widgets/controls",
     "model_name": "VBoxModel",
     "state": {
      "_dom_classes": [
       "widget-interact"
      ],
      "_model_module": "@jupyter-widgets/controls",
      "_model_module_version": "1.5.0",
      "_model_name": "VBoxModel",
      "_view_count": null,
      "_view_module": "@jupyter-widgets/controls",
      "_view_module_version": "1.5.0",
      "_view_name": "VBoxView",
      "box_style": "",
      "children": [
       "IPY_MODEL_06b1e195717c4114ae0d101be85223b5",
       "IPY_MODEL_2a0b6649de0842929a7f5126c0596c41",
       "IPY_MODEL_6e4a2c308bb44fe1b46b97fe78657582"
      ],
      "layout": "IPY_MODEL_aec6ac2b8f514e0d8304025b7fabdca2"
     }
    },
    "d6409d6fc5004727be446c04c4c5ad88": {
     "model_module": "@jupyter-widgets/base",
     "model_name": "LayoutModel",
     "state": {
      "_model_module": "@jupyter-widgets/base",
      "_model_module_version": "1.2.0",
      "_model_name": "LayoutModel",
      "_view_count": null,
      "_view_module": "@jupyter-widgets/base",
      "_view_module_version": "1.2.0",
      "_view_name": "LayoutView",
      "align_content": null,
      "align_items": null,
      "align_self": null,
      "border": null,
      "bottom": null,
      "display": null,
      "flex": null,
      "flex_flow": null,
      "grid_area": null,
      "grid_auto_columns": null,
      "grid_auto_flow": null,
      "grid_auto_rows": null,
      "grid_column": null,
      "grid_gap": null,
      "grid_row": null,
      "grid_template_areas": null,
      "grid_template_columns": null,
      "grid_template_rows": null,
      "height": null,
      "justify_content": null,
      "justify_items": null,
      "left": null,
      "margin": null,
      "max_height": null,
      "max_width": null,
      "min_height": null,
      "min_width": null,
      "object_fit": null,
      "object_position": null,
      "order": null,
      "overflow": null,
      "overflow_x": null,
      "overflow_y": null,
      "padding": null,
      "right": null,
      "top": null,
      "visibility": null,
      "width": null
     }
    },
    "dd8f526b9df441b8bf08875c10e4407c": {
     "model_module": "@jupyter-widgets/base",
     "model_name": "LayoutModel",
     "state": {
      "_model_module": "@jupyter-widgets/base",
      "_model_module_version": "1.2.0",
      "_model_name": "LayoutModel",
      "_view_count": null,
      "_view_module": "@jupyter-widgets/base",
      "_view_module_version": "1.2.0",
      "_view_name": "LayoutView",
      "align_content": null,
      "align_items": null,
      "align_self": null,
      "border": null,
      "bottom": null,
      "display": null,
      "flex": null,
      "flex_flow": null,
      "grid_area": null,
      "grid_auto_columns": null,
      "grid_auto_flow": null,
      "grid_auto_rows": null,
      "grid_column": null,
      "grid_gap": null,
      "grid_row": null,
      "grid_template_areas": null,
      "grid_template_columns": null,
      "grid_template_rows": null,
      "height": null,
      "justify_content": null,
      "justify_items": null,
      "left": null,
      "margin": null,
      "max_height": null,
      "max_width": null,
      "min_height": null,
      "min_width": null,
      "object_fit": null,
      "object_position": null,
      "order": null,
      "overflow": null,
      "overflow_x": null,
      "overflow_y": null,
      "padding": null,
      "right": null,
      "top": null,
      "visibility": null,
      "width": null
     }
    },
    "f1659899f25c49a98b265a609a84764d": {
     "model_module": "@jupyter-widgets/controls",
     "model_name": "SliderStyleModel",
     "state": {
      "_model_module": "@jupyter-widgets/controls",
      "_model_module_version": "1.5.0",
      "_model_name": "SliderStyleModel",
      "_view_count": null,
      "_view_module": "@jupyter-widgets/base",
      "_view_module_version": "1.2.0",
      "_view_name": "StyleView",
      "description_width": "",
      "handle_color": null
     }
    }
   }
  }
 },
 "nbformat": 4,
 "nbformat_minor": 1
}
